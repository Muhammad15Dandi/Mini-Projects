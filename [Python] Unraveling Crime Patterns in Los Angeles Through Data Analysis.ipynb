{
 "cells": [
  {
   "cell_type": "markdown",
   "id": "c69d3fb6",
   "metadata": {},
   "source": [
    "# **Mini Projects (Python): Unraveling Crime Patterns in Los Angeles Through Data Analysis**"
   ]
  },
  {
   "cell_type": "markdown",
   "id": "ca9a644e",
   "metadata": {},
   "source": [
    "## **Executive Summary**\n",
    "\n",
    "This analysis of crime data reveals key patterns: Noon is the peak hour for crimes, and the Central area sees the most night-time crimes. The age distribution shows crime prevalence across all age groups, offering crucial insights for targeted interventions and resource allocation."
   ]
  },
  {
   "cell_type": "markdown",
   "id": "daf8b014-b605-4352-bf41-3be0893d3fac",
   "metadata": {},
   "source": [
    "## **Business Question and Objectives**\n",
    "\n",
    "1. Which hour has the highest frequency of crimes?\n",
    "2. Which area has the largest frequency of night crimes (crimes committed between 10pm and 3:59am)?\n",
    "3. Identify the number of crimes committed against victims by age group (0-17, 18-25, 26-34, 35-44, 45-54, 55-64, 65+)"
   ]
  },
  {
   "cell_type": "markdown",
   "id": "26d70a5a-4777-40bd-ae75-2d778028becc",
   "metadata": {},
   "source": [
    "### **Technique Used**\n",
    "\n",
    "- Data Extraction and Transformation: String manipulation and type conversion.\n",
    "- Data Filtering: Subsetting the DataFrame based on specific conditions.\n",
    "- Grouping and Aggregation: Grouping data and counting occurrences.\n",
    "- Data Visualization: Using plots to visually represent data distributions.\n",
    "- Binning: Categorizing continuous data into discrete intervals."
   ]
  },
  {
   "cell_type": "markdown",
   "id": "5674d201-975b-4236-a913-55ef1a03b6ca",
   "metadata": {},
   "source": [
    "### **Key Findings**\n",
    "\n",
    "1. **Peak Crime Hour:**\n",
    "The analysis identified that the hour with the highest frequency of crimes is 12 PM (midday), with over 12,000 reported incidents during this hour. This suggests that crime rates may peak during the day, possibly due to increased activity in public spaces.\n",
    "\n",
    "2. **Area with the Largest Volume of Night Crimes:**\n",
    "The area with the highest frequency of night crimes (crimes committed between 10 PM and 3:59 AM) is identified as Central. This indicates that certain areas may be more prone to criminal activity during nighttime hours, which could be influenced by factors such as nightlife, population density, or lack of surveillance.\n",
    "\n",
    "3. **Victim Age Groups:**\n",
    "The analysis categorized crimes based on the age of victims into several brackets. The findings show that the age group 26-34 has the highest number of reported crimes (47,470 incidents), followed closely by 35-44 and 45-54 age groups. This suggests that younger adults may be more frequently targeted or involved in criminal incidents.\n"
   ]
  },
  {
   "cell_type": "markdown",
   "id": "09a82219-a228-44d5-8f5c-3439fcd87ee2",
   "metadata": {},
   "source": [
    "#### **Import and Read Data**"
   ]
  },
  {
   "cell_type": "code",
   "execution_count": 1,
   "id": "16e5642a-c013-4047-9100-adb793aa0580",
   "metadata": {},
   "outputs": [
    {
     "data": {
      "text/html": [
       "<div>\n",
       "<style scoped>\n",
       "    .dataframe tbody tr th:only-of-type {\n",
       "        vertical-align: middle;\n",
       "    }\n",
       "\n",
       "    .dataframe tbody tr th {\n",
       "        vertical-align: top;\n",
       "    }\n",
       "\n",
       "    .dataframe thead th {\n",
       "        text-align: right;\n",
       "    }\n",
       "</style>\n",
       "<table border=\"1\" class=\"dataframe\">\n",
       "  <thead>\n",
       "    <tr style=\"text-align: right;\">\n",
       "      <th></th>\n",
       "      <th>index</th>\n",
       "      <th>DR_NO</th>\n",
       "      <th>Date Rptd</th>\n",
       "      <th>DATE OCC</th>\n",
       "      <th>TIME OCC</th>\n",
       "      <th>AREA NAME</th>\n",
       "      <th>Crm Cd Desc</th>\n",
       "      <th>Vict Age</th>\n",
       "      <th>Vict Sex</th>\n",
       "      <th>Vict Descent</th>\n",
       "      <th>Weapon Desc</th>\n",
       "      <th>Status Desc</th>\n",
       "      <th>LOCATION</th>\n",
       "    </tr>\n",
       "  </thead>\n",
       "  <tbody>\n",
       "    <tr>\n",
       "      <th>0</th>\n",
       "      <td>0</td>\n",
       "      <td>220314085</td>\n",
       "      <td>2022-07-22</td>\n",
       "      <td>2020-05-12</td>\n",
       "      <td>1110</td>\n",
       "      <td>Southwest</td>\n",
       "      <td>THEFT OF IDENTITY</td>\n",
       "      <td>27</td>\n",
       "      <td>F</td>\n",
       "      <td>B</td>\n",
       "      <td>NaN</td>\n",
       "      <td>Invest Cont</td>\n",
       "      <td>2500 S  SYCAMORE                     AV</td>\n",
       "    </tr>\n",
       "    <tr>\n",
       "      <th>1</th>\n",
       "      <td>1</td>\n",
       "      <td>222013040</td>\n",
       "      <td>2022-08-06</td>\n",
       "      <td>2020-06-04</td>\n",
       "      <td>1620</td>\n",
       "      <td>Olympic</td>\n",
       "      <td>THEFT OF IDENTITY</td>\n",
       "      <td>60</td>\n",
       "      <td>M</td>\n",
       "      <td>H</td>\n",
       "      <td>NaN</td>\n",
       "      <td>Invest Cont</td>\n",
       "      <td>3300    SAN MARINO                   ST</td>\n",
       "    </tr>\n",
       "    <tr>\n",
       "      <th>2</th>\n",
       "      <td>2</td>\n",
       "      <td>220614831</td>\n",
       "      <td>2022-08-18</td>\n",
       "      <td>2020-08-17</td>\n",
       "      <td>1200</td>\n",
       "      <td>Hollywood</td>\n",
       "      <td>THEFT OF IDENTITY</td>\n",
       "      <td>28</td>\n",
       "      <td>M</td>\n",
       "      <td>H</td>\n",
       "      <td>NaN</td>\n",
       "      <td>Invest Cont</td>\n",
       "      <td>1900    TRANSIENT</td>\n",
       "    </tr>\n",
       "    <tr>\n",
       "      <th>3</th>\n",
       "      <td>3</td>\n",
       "      <td>231207725</td>\n",
       "      <td>2023-02-27</td>\n",
       "      <td>2020-01-27</td>\n",
       "      <td>635</td>\n",
       "      <td>77th Street</td>\n",
       "      <td>THEFT OF IDENTITY</td>\n",
       "      <td>37</td>\n",
       "      <td>M</td>\n",
       "      <td>H</td>\n",
       "      <td>NaN</td>\n",
       "      <td>Invest Cont</td>\n",
       "      <td>6200    4TH                          AV</td>\n",
       "    </tr>\n",
       "    <tr>\n",
       "      <th>4</th>\n",
       "      <td>4</td>\n",
       "      <td>220213256</td>\n",
       "      <td>2022-07-14</td>\n",
       "      <td>2020-07-14</td>\n",
       "      <td>900</td>\n",
       "      <td>Rampart</td>\n",
       "      <td>THEFT OF IDENTITY</td>\n",
       "      <td>79</td>\n",
       "      <td>M</td>\n",
       "      <td>B</td>\n",
       "      <td>NaN</td>\n",
       "      <td>Invest Cont</td>\n",
       "      <td>1200 W  7TH                          ST</td>\n",
       "    </tr>\n",
       "  </tbody>\n",
       "</table>\n",
       "</div>"
      ],
      "text/plain": [
       "   index      DR_NO  Date Rptd   DATE OCC TIME OCC    AREA NAME  \\\n",
       "0      0  220314085 2022-07-22 2020-05-12     1110    Southwest   \n",
       "1      1  222013040 2022-08-06 2020-06-04     1620      Olympic   \n",
       "2      2  220614831 2022-08-18 2020-08-17     1200    Hollywood   \n",
       "3      3  231207725 2023-02-27 2020-01-27      635  77th Street   \n",
       "4      4  220213256 2022-07-14 2020-07-14      900      Rampart   \n",
       "\n",
       "         Crm Cd Desc  Vict Age Vict Sex Vict Descent Weapon Desc  Status Desc  \\\n",
       "0  THEFT OF IDENTITY        27        F            B         NaN  Invest Cont   \n",
       "1  THEFT OF IDENTITY        60        M            H         NaN  Invest Cont   \n",
       "2  THEFT OF IDENTITY        28        M            H         NaN  Invest Cont   \n",
       "3  THEFT OF IDENTITY        37        M            H         NaN  Invest Cont   \n",
       "4  THEFT OF IDENTITY        79        M            B         NaN  Invest Cont   \n",
       "\n",
       "                                  LOCATION  \n",
       "0  2500 S  SYCAMORE                     AV  \n",
       "1  3300    SAN MARINO                   ST  \n",
       "2                        1900    TRANSIENT  \n",
       "3  6200    4TH                          AV  \n",
       "4  1200 W  7TH                          ST  "
      ]
     },
     "execution_count": 1,
     "metadata": {},
     "output_type": "execute_result"
    }
   ],
   "source": [
    "# Import required libraries\n",
    "import pandas as pd\n",
    "import numpy as np\n",
    "import matplotlib.pyplot as plt\n",
    "import seaborn as sns\n",
    "\n",
    "# Read in and preview the dataset\n",
    "crimes = pd.read_csv(\"crimes.csv\", parse_dates=[\"Date Rptd\", \"DATE OCC\"], dtype={\"TIME OCC\": str})\n",
    "crimes.head()"
   ]
  },
  {
   "cell_type": "markdown",
   "id": "3ada02cd-9c4d-4e86-8a90-49e13465c5af",
   "metadata": {},
   "source": [
    "### **To determine the hour with the highest frequency of crimes**"
   ]
  },
  {
   "cell_type": "code",
   "execution_count": 2,
   "id": "ab7e786a-54de-4ee4-96db-fe06e2ef4da0",
   "metadata": {},
   "outputs": [],
   "source": [
    "# Extract the first two digits from \"TIME OCC\", representing the hour, and convert to integer data type\n",
    "crimes[\"HOUR OCC\"] = crimes[\"TIME OCC\"].str[:2].astype(int)"
   ]
  },
  {
   "cell_type": "code",
   "execution_count": 3,
   "id": "de625856-3bad-44f4-b56e-449c2fc108b7",
   "metadata": {},
   "outputs": [
    {
     "data": {
      "text/html": [
       "<div>\n",
       "<style scoped>\n",
       "    .dataframe tbody tr th:only-of-type {\n",
       "        vertical-align: middle;\n",
       "    }\n",
       "\n",
       "    .dataframe tbody tr th {\n",
       "        vertical-align: top;\n",
       "    }\n",
       "\n",
       "    .dataframe thead th {\n",
       "        text-align: right;\n",
       "    }\n",
       "</style>\n",
       "<table border=\"1\" class=\"dataframe\">\n",
       "  <thead>\n",
       "    <tr style=\"text-align: right;\">\n",
       "      <th></th>\n",
       "      <th>index</th>\n",
       "      <th>DR_NO</th>\n",
       "      <th>Date Rptd</th>\n",
       "      <th>DATE OCC</th>\n",
       "      <th>TIME OCC</th>\n",
       "      <th>AREA NAME</th>\n",
       "      <th>Crm Cd Desc</th>\n",
       "      <th>Vict Age</th>\n",
       "      <th>Vict Sex</th>\n",
       "      <th>Vict Descent</th>\n",
       "      <th>Weapon Desc</th>\n",
       "      <th>Status Desc</th>\n",
       "      <th>LOCATION</th>\n",
       "      <th>HOUR OCC</th>\n",
       "    </tr>\n",
       "  </thead>\n",
       "  <tbody>\n",
       "    <tr>\n",
       "      <th>0</th>\n",
       "      <td>0</td>\n",
       "      <td>220314085</td>\n",
       "      <td>2022-07-22</td>\n",
       "      <td>2020-05-12</td>\n",
       "      <td>1110</td>\n",
       "      <td>Southwest</td>\n",
       "      <td>THEFT OF IDENTITY</td>\n",
       "      <td>27</td>\n",
       "      <td>F</td>\n",
       "      <td>B</td>\n",
       "      <td>NaN</td>\n",
       "      <td>Invest Cont</td>\n",
       "      <td>2500 S  SYCAMORE                     AV</td>\n",
       "      <td>11</td>\n",
       "    </tr>\n",
       "    <tr>\n",
       "      <th>1</th>\n",
       "      <td>1</td>\n",
       "      <td>222013040</td>\n",
       "      <td>2022-08-06</td>\n",
       "      <td>2020-06-04</td>\n",
       "      <td>1620</td>\n",
       "      <td>Olympic</td>\n",
       "      <td>THEFT OF IDENTITY</td>\n",
       "      <td>60</td>\n",
       "      <td>M</td>\n",
       "      <td>H</td>\n",
       "      <td>NaN</td>\n",
       "      <td>Invest Cont</td>\n",
       "      <td>3300    SAN MARINO                   ST</td>\n",
       "      <td>16</td>\n",
       "    </tr>\n",
       "    <tr>\n",
       "      <th>2</th>\n",
       "      <td>2</td>\n",
       "      <td>220614831</td>\n",
       "      <td>2022-08-18</td>\n",
       "      <td>2020-08-17</td>\n",
       "      <td>1200</td>\n",
       "      <td>Hollywood</td>\n",
       "      <td>THEFT OF IDENTITY</td>\n",
       "      <td>28</td>\n",
       "      <td>M</td>\n",
       "      <td>H</td>\n",
       "      <td>NaN</td>\n",
       "      <td>Invest Cont</td>\n",
       "      <td>1900    TRANSIENT</td>\n",
       "      <td>12</td>\n",
       "    </tr>\n",
       "    <tr>\n",
       "      <th>3</th>\n",
       "      <td>3</td>\n",
       "      <td>231207725</td>\n",
       "      <td>2023-02-27</td>\n",
       "      <td>2020-01-27</td>\n",
       "      <td>635</td>\n",
       "      <td>77th Street</td>\n",
       "      <td>THEFT OF IDENTITY</td>\n",
       "      <td>37</td>\n",
       "      <td>M</td>\n",
       "      <td>H</td>\n",
       "      <td>NaN</td>\n",
       "      <td>Invest Cont</td>\n",
       "      <td>6200    4TH                          AV</td>\n",
       "      <td>63</td>\n",
       "    </tr>\n",
       "    <tr>\n",
       "      <th>4</th>\n",
       "      <td>4</td>\n",
       "      <td>220213256</td>\n",
       "      <td>2022-07-14</td>\n",
       "      <td>2020-07-14</td>\n",
       "      <td>900</td>\n",
       "      <td>Rampart</td>\n",
       "      <td>THEFT OF IDENTITY</td>\n",
       "      <td>79</td>\n",
       "      <td>M</td>\n",
       "      <td>B</td>\n",
       "      <td>NaN</td>\n",
       "      <td>Invest Cont</td>\n",
       "      <td>1200 W  7TH                          ST</td>\n",
       "      <td>90</td>\n",
       "    </tr>\n",
       "  </tbody>\n",
       "</table>\n",
       "</div>"
      ],
      "text/plain": [
       "   index      DR_NO  Date Rptd   DATE OCC TIME OCC    AREA NAME  \\\n",
       "0      0  220314085 2022-07-22 2020-05-12     1110    Southwest   \n",
       "1      1  222013040 2022-08-06 2020-06-04     1620      Olympic   \n",
       "2      2  220614831 2022-08-18 2020-08-17     1200    Hollywood   \n",
       "3      3  231207725 2023-02-27 2020-01-27      635  77th Street   \n",
       "4      4  220213256 2022-07-14 2020-07-14      900      Rampart   \n",
       "\n",
       "         Crm Cd Desc  Vict Age Vict Sex Vict Descent Weapon Desc  Status Desc  \\\n",
       "0  THEFT OF IDENTITY        27        F            B         NaN  Invest Cont   \n",
       "1  THEFT OF IDENTITY        60        M            H         NaN  Invest Cont   \n",
       "2  THEFT OF IDENTITY        28        M            H         NaN  Invest Cont   \n",
       "3  THEFT OF IDENTITY        37        M            H         NaN  Invest Cont   \n",
       "4  THEFT OF IDENTITY        79        M            B         NaN  Invest Cont   \n",
       "\n",
       "                                  LOCATION  HOUR OCC  \n",
       "0  2500 S  SYCAMORE                     AV        11  \n",
       "1  3300    SAN MARINO                   ST        16  \n",
       "2                        1900    TRANSIENT        12  \n",
       "3  6200    4TH                          AV        63  \n",
       "4  1200 W  7TH                          ST        90  "
      ]
     },
     "execution_count": 3,
     "metadata": {},
     "output_type": "execute_result"
    }
   ],
   "source": [
    "# Preview the DataFrame to confirm the new column is correct\n",
    "crimes.head()"
   ]
  },
  {
   "cell_type": "code",
   "execution_count": 9,
   "id": "99a61029-6e8f-44f8-8861-baa3b349d998",
   "metadata": {},
   "outputs": [
    {
     "name": "stderr",
     "output_type": "stream",
     "text": [
      "C:\\Users\\Muhammad Dandi\\AppData\\Local\\Temp\\ipykernel_8872\\2682788834.py:5: FutureWarning: \n",
      "\n",
      "Passing `palette` without assigning `hue` is deprecated and will be removed in v0.14.0. Assign the `x` variable to `hue` and set `legend=False` for the same effect.\n",
      "\n",
      "  sns.countplot(data=crimes, x=\"HOUR OCC\", palette=\"viridis\")\n"
     ]
    },
    {
     "data": {
      "image/png": "[encoded data removed]",
      "text/plain": [
       "<Figure size 1400x800 with 1 Axes>"
      ]
     },
     "metadata": {},
     "output_type": "display_data"
    }
   ],
   "source": [
    "# Set the figure size to make the plot larger\n",
    "plt.figure(figsize=(14, 8))\n",
    "\n",
    "# Produce a countplot to find the largest frequency of crimes by hour\n",
    "sns.countplot(data=crimes, x=\"HOUR OCC\", palette=\"viridis\")\n",
    "\n",
    "# Add titles and labels for clarity\n",
    "plt.title(\"Crime Frequency by Hour\", fontsize=16)\n",
    "plt.xlabel(\"Hour of the Day\", fontsize=14)\n",
    "plt.ylabel(\"Number of Crimes\", fontsize=14)\n",
    "\n",
    "# Adjust layout to prevent clipping of labels\n",
    "plt.tight_layout()\n",
    "\n",
    "# Show the plot\n",
    "plt.show()"
   ]
  },
  {
   "cell_type": "code",
   "execution_count": 5,
   "id": "cfcb4d6f-5bd3-4a64-9062-942c7303aefd",
   "metadata": {},
   "outputs": [],
   "source": [
    "# Midday has the largest volume of crime\n",
    "peak_crime_hour = 12"
   ]
  },
  {
   "cell_type": "markdown",
   "id": "4d373e4b-7d0c-4edf-8782-8c00e745fb0a",
   "metadata": {},
   "source": [
    "### **To identify the area with the highest occurrence of night crimes (between 10 PM and 3:59 AM)**"
   ]
  },
  {
   "cell_type": "code",
   "execution_count": 6,
   "id": "0ad2ec84-913f-419d-9940-b290fe4dfd6a",
   "metadata": {},
   "outputs": [
    {
     "name": "stdout",
     "output_type": "stream",
     "text": [
      "The area with the largest volume of night crime is 77th Street\n"
     ]
    }
   ],
   "source": [
    "# Filter for the night-time hours\n",
    "# 0 = midnight; 3 = crimes between 3am and 3:59am, i.e., not including 4\n",
    "night_time = crimes[crimes[\"HOUR OCC\"].isin([22,23,0,1,2,3])]\n",
    "\n",
    "# Group by \"AREA NAME\" and count occurrences, filtering for the largest value and saving the \"AREA NAME\"\n",
    "peak_night_crime_location = night_time.groupby(\"AREA NAME\", \n",
    "                                               as_index=False)[\"HOUR OCC\"].count().sort_values(\"HOUR OCC\",\n",
    "                                                                                               ascending=False).iloc[0][\"AREA NAME\"]\n",
    "# Print the peak night crime location\n",
    "print(f\"The area with the largest volume of night crime is {peak_night_crime_location}\")"
   ]
  },
  {
   "cell_type": "markdown",
   "id": "98d5f161-c119-4b7d-8e24-35f2b189f216",
   "metadata": {},
   "source": [
    "### **To identify the number of crimes committed against victims categorized by age group**\n",
    "Within the ranges of 0-17, 18-25, 26-34, 35-44, 45-54, 55-64, and 65 and older."
   ]
  },
  {
   "cell_type": "code",
   "execution_count": 7,
   "id": "fea01093-bae9-4539-9ee5-6e60a29eecfc",
   "metadata": {},
   "outputs": [],
   "source": [
    "# Create bins and labels for victim age ranges\n",
    "age_bins = [0, 17, 25, 34, 44, 54, 64, np.inf]\n",
    "age_labels = [\"0-17\", \"18-25\", \"26-34\", \"35-44\", \"45-54\", \"55-64\", \"65+\"]\n",
    "\n",
    "# Add a new column using pd.cut() to bin values into discrete intervals\n",
    "crimes[\"Age Bracket\"] = pd.cut(crimes[\"Vict Age\"],\n",
    "                               bins=age_bins,\n",
    "                               labels=age_labels)"
   ]
  },
  {
   "cell_type": "code",
   "execution_count": 8,
   "id": "e0a5999f-a762-47d0-9a75-2eeb20063aae",
   "metadata": {},
   "outputs": [
    {
     "name": "stdout",
     "output_type": "stream",
     "text": [
      "Age Bracket\n",
      "26-34    1996\n",
      "35-44    1810\n",
      "45-54    1292\n",
      "18-25    1272\n",
      "55-64     998\n",
      "65+       688\n",
      "0-17      277\n",
      "Name: count, dtype: int64\n"
     ]
    }
   ],
   "source": [
    "# Find the category with the largest frequency\n",
    "victim_ages = crimes[\"Age Bracket\"].value_counts()\n",
    "print(victim_ages)"
   ]
  }
 ],
 "metadata": {
  "kernelspec": {
   "display_name": "Python 3 (ipykernel)",
   "language": "python",
   "name": "python3"
  },
  "language_info": {
   "codemirror_mode": {
    "name": "ipython",
    "version": 3
   },
   "file_extension": ".py",
   "mimetype": "text/x-python",
   "name": "python",
   "nbconvert_exporter": "python",
   "pygments_lexer": "ipython3",
   "version": "3.11.5"
  }
 },
 "nbformat": 4,
 "nbformat_minor": 5
}
