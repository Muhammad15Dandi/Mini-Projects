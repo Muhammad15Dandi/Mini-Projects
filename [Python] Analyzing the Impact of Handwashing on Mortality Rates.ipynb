{
 "cells": [
  {
   "cell_type": "markdown",
   "id": "969bb04d-0eb5-4c11-a9df-cd513c090f99",
   "metadata": {},
   "source": [
    "# **Mini Projects (Python): Analyzing the Impact of Handwashing on Mortality Rates**"
   ]
  },
  {
   "cell_type": "markdown",
   "id": "1421b2c0-0648-4ad5-b78d-36332ff9b2ca",
   "metadata": {},
   "source": [
    "### **Executive Summary**"
   ]
  },
  {
   "cell_type": "markdown",
   "id": "fdd925dc-11e3-4f1b-b7e1-80d5c31058f3",
   "metadata": {},
   "source": [
    "Hungarian physician Dr. Ignaz Semmelweis worked at the Vienna General Hospital with childbed fever patients. Childbed fever is a deadly disease affecting women who have just given birth, and in the early 1840s, as many as 10% of the women giving birth died from it at the Vienna General Hospital. Dr.Semmelweis discovered that it was the contaminated hands of the doctors delivering the babies, and on **June 1st, 1847**, he decreed that everyone should wash their hands, an unorthodox and controversial request; nobody in Vienna knew about bacteria.\n",
    "\n",
    "I will reanalyze the data that made Semmelweis discover the importance of handwashing and its impact on the hospital and the number of deaths.\n",
    "\n",
    "The data is stored as two CSV files within the `data` folder.\n",
    "\n",
    "`yearly_deaths_by_clinic.csv` contains the number of women giving birth at the two clinics at the Vienna General Hospital between the years 1841 and 1846.\n",
    "\n",
    "| Column | Description |\n",
    "|--------|-------------|\n",
    "|`year`  |Years (1841-1846)|\n",
    "|`births`|Number of births|\n",
    "|`deaths`|Number of deaths|\n",
    "|`clinic`|Clinic 1 or clinic 2|\n",
    "\n",
    "`monthly_deaths.csv` contains data from 'Clinic 1' of the hospital where most deaths occurred.\n",
    "\n",
    "| Column | Description |\n",
    "|--------|-------------|\n",
    "|`date`|Date (YYYY-MM-DD)\n",
    "|`births`|Number of births|\n",
    "|`deaths`|Number of deaths|"
   ]
  },
  {
   "cell_type": "markdown",
   "id": "03ef1bb7-5599-41e2-93c5-7dd88913fca0",
   "metadata": {},
   "source": [
    "### **Business Question and Objectives**\n",
    "1. What year had the highest yearly proportion of deaths at each clinic?\n",
    "2. What are the mean proportions of deaths before and after handwashing from the monthly data?\n",
    "3. Analyze the difference in the mean monthly proportion of deaths and calculate a 95% confidence interval"
   ]
  },
  {
   "cell_type": "markdown",
   "id": "c3f6db0a-a265-4a39-af63-577f973777ba",
   "metadata": {},
   "source": [
    "### **Technique Used**\n",
    "- **Proportion Calculation**: The proportion of deaths is calculated for both yearly and monthly datasets by dividing the number of deaths by the number of births, allowing for the assessment of mortality rates relative to live births.\n",
    "\n",
    "- **Data Visualization (Line Plot)**: The line plot to visualize the trend of the proportion of deaths over the years for each clinic, facilitating the identification of patterns and variations in mortality rates across different clinics.\n",
    "\n",
    "- **Grouping and Aggregation (Mean Calculation)**: Groups the monthly data based on whether handwashing was introduced and calculates the mean proportion of deaths for each group, summarizing the impact of handwashing on mortality.\n",
    "\n",
    "- **Bootstrapping (Resampling Technique)**: Implementation of bootstrapping by repeatedly sampling with replacement from the proportions of deaths before and after handwashing to estimate the mean difference in mortality rates.\n",
    "\n",
    "- **Confidence Interval Estimation**: Calculates a 95% confidence interval for the mean difference in proportions of deaths using the quantiles of the bootstrap samples, providing a range that reflects the uncertainty around the estimated effect of handwashing.\n"
   ]
  },
  {
   "cell_type": "markdown",
   "id": "d42eb49e-cae6-4681-8bee-4ea491677ac9",
   "metadata": {},
   "source": [
    "### **Key Findings**\n",
    "\n",
    "1. **Year with the Highest Yearly Proportion of Deaths at Each Clinic**\n",
    "    - Clinic 1: The year 1842 had the highest proportion of deaths, peaking at approximately 0.16.\n",
    "    - Clinic 2: The highest proportion of deaths occurred in 1842 as well, but at a lower peak of around 0.08.\n",
    "\n",
    "2. **Mean Proportions of Deaths Before and After Handwashing**\n",
    "    - Before Handwashing: The mean proportion of deaths was approximately 0.105 (or 10.5%).\n",
    "    - After Handwashing: The mean proportion of deaths significantly decreased to about 0.021 (or 2.1%).\n",
    "    - This indicates a substantial reduction in the average monthly proportion of deaths after the introduction of handwashing.\n",
    "\n",
    "3. **Difference in Mean Monthly Proportion of Deaths and 95% Confidence Interval**\n",
    "    - The analysis shows a significant reduction in the mean monthly proportion of deaths after handwashing was introduced.\n",
    "    - The 95% confidence interval for the difference in mean proportions is from approximately -0.1009 to -0.0675.\n",
    "    - This interval indicates that the reduction in deaths is statistically significant, as it does not include zero, suggesting that handwashing had a positive impact on reducing mortality rates.\n"
   ]
  },
  {
   "cell_type": "markdown",
   "id": "24b213b3-963b-4029-aec7-34e9599ba116",
   "metadata": {},
   "source": [
    "### **Import Libraries**"
   ]
  },
  {
   "cell_type": "code",
   "execution_count": 1,
   "id": "55f9710d-0932-44f0-853d-ce6f7084b0f0",
   "metadata": {},
   "outputs": [],
   "source": [
    "# Imported libraries\n",
    "import pandas as pd\n",
    "import matplotlib.pyplot as plt"
   ]
  },
  {
   "cell_type": "markdown",
   "id": "94efb718-8f0a-480e-91a9-f3a8faa00cb8",
   "metadata": {},
   "source": [
    "### **To identify the year with the highest yearly proportion of deaths for each clinic**"
   ]
  },
  {
   "cell_type": "code",
   "execution_count": 2,
   "id": "8257cdc8-e51d-47f5-9797-3186ec0b0e93",
   "metadata": {},
   "outputs": [
    {
     "data": {
      "text/html": [
       "<div>\n",
       "<style scoped>\n",
       "    .dataframe tbody tr th:only-of-type {\n",
       "        vertical-align: middle;\n",
       "    }\n",
       "\n",
       "    .dataframe tbody tr th {\n",
       "        vertical-align: top;\n",
       "    }\n",
       "\n",
       "    .dataframe thead th {\n",
       "        text-align: right;\n",
       "    }\n",
       "</style>\n",
       "<table border=\"1\" class=\"dataframe\">\n",
       "  <thead>\n",
       "    <tr style=\"text-align: right;\">\n",
       "      <th></th>\n",
       "      <th>year</th>\n",
       "      <th>births</th>\n",
       "      <th>deaths</th>\n",
       "      <th>clinic</th>\n",
       "    </tr>\n",
       "  </thead>\n",
       "  <tbody>\n",
       "    <tr>\n",
       "      <th>0</th>\n",
       "      <td>1841</td>\n",
       "      <td>3036</td>\n",
       "      <td>237</td>\n",
       "      <td>clinic 1</td>\n",
       "    </tr>\n",
       "    <tr>\n",
       "      <th>1</th>\n",
       "      <td>1842</td>\n",
       "      <td>3287</td>\n",
       "      <td>518</td>\n",
       "      <td>clinic 1</td>\n",
       "    </tr>\n",
       "    <tr>\n",
       "      <th>2</th>\n",
       "      <td>1843</td>\n",
       "      <td>3060</td>\n",
       "      <td>274</td>\n",
       "      <td>clinic 1</td>\n",
       "    </tr>\n",
       "    <tr>\n",
       "      <th>3</th>\n",
       "      <td>1844</td>\n",
       "      <td>3157</td>\n",
       "      <td>260</td>\n",
       "      <td>clinic 1</td>\n",
       "    </tr>\n",
       "    <tr>\n",
       "      <th>4</th>\n",
       "      <td>1845</td>\n",
       "      <td>3492</td>\n",
       "      <td>241</td>\n",
       "      <td>clinic 1</td>\n",
       "    </tr>\n",
       "  </tbody>\n",
       "</table>\n",
       "</div>"
      ],
      "text/plain": [
       "   year  births  deaths    clinic\n",
       "0  1841    3036     237  clinic 1\n",
       "1  1842    3287     518  clinic 1\n",
       "2  1843    3060     274  clinic 1\n",
       "3  1844    3157     260  clinic 1\n",
       "4  1845    3492     241  clinic 1"
      ]
     },
     "execution_count": 2,
     "metadata": {},
     "output_type": "execute_result"
    }
   ],
   "source": [
    "# Load and inspect the yearly data\n",
    "yearly = pd.read_csv('yearly_deaths_by_clinic.csv')\n",
    "yearly.head()"
   ]
  },
  {
   "cell_type": "code",
   "execution_count": 3,
   "id": "fb5b9ad5-45d1-491a-8bbd-58754675fdff",
   "metadata": {},
   "outputs": [],
   "source": [
    "# Add proportion_deaths to the DataFrames\n",
    "yearly[\"proportion_deaths\"] = yearly[\"deaths\"] / yearly[\"births\"]"
   ]
  },
  {
   "cell_type": "code",
   "execution_count": 4,
   "id": "ce205d40-5a3e-43a1-93a8-99ee8f8a1f2e",
   "metadata": {},
   "outputs": [
    {
     "data": {
      "image/png": "[encoded data removed]",
      "text/plain": [
       "<Figure size 640x480 with 1 Axes>"
      ]
     },
     "metadata": {},
     "output_type": "display_data"
    }
   ],
   "source": [
    "# Add proportion_deaths to the DataFrames\n",
    "yearly[\"proportion_deaths\"] = yearly[\"deaths\"] / yearly[\"births\"]\n",
    "\n",
    "# Plot the year versus proportion deaths and separate by clinic using a for loop\n",
    "for clinic in yearly['clinic'].unique():\n",
    "    clinic_data = yearly[yearly['clinic'] == clinic]\n",
    "    plt.plot(clinic_data['year'], clinic_data['proportion_deaths'], label=clinic)\n",
    "\n",
    "plt.xlabel('Year')\n",
    "plt.ylabel('Proportion of Deaths')\n",
    "plt.title('Year vs Proportion of Deaths by Clinic')\n",
    "plt.legend(title='Clinic')\n",
    "plt.grid(True)\n",
    "plt.show()"
   ]
  },
  {
   "cell_type": "code",
   "execution_count": 5,
   "id": "59d0c61e-0a49-4189-b7db-783df85dbc04",
   "metadata": {},
   "outputs": [],
   "source": [
    "# Identify the highest year in the visualization and save the integer year\n",
    "highest_year = 1842"
   ]
  },
  {
   "cell_type": "markdown",
   "id": "bd4f088c-6e99-41be-8eda-859f0c08c07d",
   "metadata": {},
   "source": [
    "### **To identify the mean proportions of deaths before and after handwashing based on the monthly data**"
   ]
  },
  {
   "cell_type": "code",
   "execution_count": 6,
   "id": "08631942-acee-4470-91d5-3f21840b069f",
   "metadata": {},
   "outputs": [
    {
     "data": {
      "text/html": [
       "<div>\n",
       "<style scoped>\n",
       "    .dataframe tbody tr th:only-of-type {\n",
       "        vertical-align: middle;\n",
       "    }\n",
       "\n",
       "    .dataframe tbody tr th {\n",
       "        vertical-align: top;\n",
       "    }\n",
       "\n",
       "    .dataframe thead th {\n",
       "        text-align: right;\n",
       "    }\n",
       "</style>\n",
       "<table border=\"1\" class=\"dataframe\">\n",
       "  <thead>\n",
       "    <tr style=\"text-align: right;\">\n",
       "      <th></th>\n",
       "      <th>date</th>\n",
       "      <th>births</th>\n",
       "      <th>deaths</th>\n",
       "    </tr>\n",
       "  </thead>\n",
       "  <tbody>\n",
       "    <tr>\n",
       "      <th>0</th>\n",
       "      <td>1841-01-01</td>\n",
       "      <td>254</td>\n",
       "      <td>37</td>\n",
       "    </tr>\n",
       "    <tr>\n",
       "      <th>1</th>\n",
       "      <td>1841-02-01</td>\n",
       "      <td>239</td>\n",
       "      <td>18</td>\n",
       "    </tr>\n",
       "    <tr>\n",
       "      <th>2</th>\n",
       "      <td>1841-03-01</td>\n",
       "      <td>277</td>\n",
       "      <td>12</td>\n",
       "    </tr>\n",
       "    <tr>\n",
       "      <th>3</th>\n",
       "      <td>1841-04-01</td>\n",
       "      <td>255</td>\n",
       "      <td>4</td>\n",
       "    </tr>\n",
       "    <tr>\n",
       "      <th>4</th>\n",
       "      <td>1841-05-01</td>\n",
       "      <td>255</td>\n",
       "      <td>2</td>\n",
       "    </tr>\n",
       "  </tbody>\n",
       "</table>\n",
       "</div>"
      ],
      "text/plain": [
       "         date  births  deaths\n",
       "0  1841-01-01     254      37\n",
       "1  1841-02-01     239      18\n",
       "2  1841-03-01     277      12\n",
       "3  1841-04-01     255       4\n",
       "4  1841-05-01     255       2"
      ]
     },
     "execution_count": 6,
     "metadata": {},
     "output_type": "execute_result"
    }
   ],
   "source": [
    "# Load and inspect the monthly data\n",
    "monthly = pd.read_csv(\"monthly_deaths.csv\")\n",
    "monthly.head()"
   ]
  },
  {
   "cell_type": "code",
   "execution_count": 7,
   "id": "b2a20354-8dbf-491d-a7e4-6b9c34d1c336",
   "metadata": {},
   "outputs": [],
   "source": [
    "# Add proportion_deaths to the DataFrame\n",
    "monthly[\"proportion_deaths\"] = monthly[\"deaths\"] / monthly[\"births\"]\n",
    "\n",
    "# Add the threshold as the date handwashing was introduced\n",
    "handwashing_start = '1847-06-01'\n",
    "\n",
    "# Create a boolean column that shows True after the date handwashing was introduced\n",
    "monthly['handwashing_started'] = monthly['date'] >= handwashing_start"
   ]
  },
  {
   "cell_type": "code",
   "execution_count": 8,
   "id": "1977ecd1-d000-458f-8e79-949f58eb2e4b",
   "metadata": {},
   "outputs": [
    {
     "name": "stdout",
     "output_type": "stream",
     "text": [
      "   handwashing_started  mean_proportion_deaths\n",
      "0                False                0.105050\n",
      "1                 True                0.021093\n"
     ]
    }
   ],
   "source": [
    "# Group by the new boolean column calculate the mean proportion of deaths\n",
    "# Reset the index to store the result as a DataFrame\n",
    "monthly_summary = monthly.groupby('handwashing_started').agg(\n",
    "    mean_proportion_deaths=('proportion_deaths', 'mean')\n",
    ").reset_index()\n",
    "\n",
    "print(monthly_summary)"
   ]
  },
  {
   "cell_type": "markdown",
   "id": "13c1fd2e-959f-455f-bf1b-80e764178f7f",
   "metadata": {},
   "source": [
    "### **Examine the variation in the average monthly proportion of deaths and compute a 95% confidence interval for the results**"
   ]
  },
  {
   "cell_type": "code",
   "execution_count": 9,
   "id": "19d5de7c-b871-4167-a9fe-24842341f7c8",
   "metadata": {},
   "outputs": [],
   "source": [
    "# Split the monthly data into before and after handwashing was introduced\n",
    "before_washing = monthly[monthly[\"date\"] < handwashing_start]\n",
    "after_washing = monthly[monthly[\"date\"] >= handwashing_start]\n",
    "before_proportion = before_washing[\"proportion_deaths\"]\n",
    "after_proportion = after_washing[\"proportion_deaths\"]"
   ]
  },
  {
   "cell_type": "code",
   "execution_count": 10,
   "id": "89f29a90-9c09-46df-a5ac-57abd1ccb749",
   "metadata": {},
   "outputs": [
    {
     "name": "stdout",
     "output_type": "stream",
     "text": [
      "0.025   -0.100928\n",
      "0.975   -0.067472\n",
      "dtype: float64\n"
     ]
    }
   ],
   "source": [
    "# Perform a bootstrap analysis of the reduction of deaths due to handwashing\n",
    "boot_mean_diff = []\n",
    "for i in range(3000):\n",
    "    boot_before = before_proportion.sample(frac=1, replace=True)\n",
    "    boot_after = after_proportion.sample(frac=1, replace=True)\n",
    "    boot_mean_diff.append( boot_after.mean() - boot_before.mean() )\n",
    "\n",
    "# Calculate a 95% confidence interval\n",
    "confidence_interval = pd.Series(boot_mean_diff).quantile([0.025, 0.975])\n",
    "print(confidence_interval)"
   ]
  }
 ],
 "metadata": {
  "kernelspec": {
   "display_name": "Python 3 (ipykernel)",
   "language": "python",
   "name": "python3"
  },
  "language_info": {
   "codemirror_mode": {
    "name": "ipython",
    "version": 3
   },
   "file_extension": ".py",
   "mimetype": "text/x-python",
   "name": "python",
   "nbconvert_exporter": "python",
   "pygments_lexer": "ipython3",
   "version": "3.11.5"
  }
 },
 "nbformat": 4,
 "nbformat_minor": 5
}
